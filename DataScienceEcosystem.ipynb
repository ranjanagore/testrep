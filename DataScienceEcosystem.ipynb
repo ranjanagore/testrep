{
 "cells": [
  {
   "cell_type": "markdown",
   "id": "360b16e3-c6ab-47cd-a577-d463bf32112b",
   "metadata": {
    "tags": []
   },
   "source": [
    "# Data Science Tools and Ecosystem"
   ]
  },
  {
   "cell_type": "markdown",
   "id": "4cadfee7-60ec-4746-beb3-c8cdd6d58db6",
   "metadata": {},
   "source": [
    "In this notebook, Data Science Tools and Ecosystem are summarized. This cell gives introduction for Data science Tools."
   ]
  },
  {
   "cell_type": "markdown",
   "id": "559e95e8-cf90-4989-93f2-33e6ba14ca5c",
   "metadata": {},
   "source": [
    "# Objectives\n",
    "- List of Popular Languages of Data Science\n",
    "- List of Libraries for Data Science\n",
    "- List of Data Science Tools\n",
    "- How to evaluate the expressions\n"
   ]
  },
  {
   "cell_type": "markdown",
   "id": "288ad2d9-1069-4d4c-9fa7-c2379d7e2949",
   "metadata": {},
   "source": [
    "## Author\n",
    "Dr. Ranjana Kale"
   ]
  },
  {
   "cell_type": "markdown",
   "id": "698473b8-c7d9-4b49-87d2-7a6b49f7a3d2",
   "metadata": {},
   "source": [
    "Some of the popular languages that Data Scientists use are:\n",
    "1. Python\n",
    "2. SQL\n",
    "3. R\n",
    "4. VBA\n",
    "5. Julia\n",
    "6. JavaScript\n",
    "7. Java\n",
    "8. Scala"
   ]
  },
  {
   "cell_type": "markdown",
   "id": "0183dc68-a7c3-48a6-9506-d7fe6e338f02",
   "metadata": {},
   "source": [
    "Some of the commonly used libraries used by Data Scientists include:\n",
    "1. Pandas\n",
    "2. NumPy\n",
    "3. SciPy\n",
    "4. Matplotlib\n",
    "5. Keras"
   ]
  },
  {
   "cell_type": "markdown",
   "id": "af80b9fe-2437-45e1-952a-76f6dec3319e",
   "metadata": {},
   "source": [
    "| Data Science Tools |\n",
    "|:-------------------|\n",
    "|       Python       |\n",
    "|  Apache Spark      |\n",
    "|  Apache Hadoop     |"
   ]
  },
  {
   "cell_type": "markdown",
   "id": "cb6b608c-5bed-44ec-a75c-999e2bb45918",
   "metadata": {},
   "source": [
    "### Below are a few examples of evaluating arithmetic expressions in Python"
   ]
  },
  {
   "cell_type": "code",
   "execution_count": 4,
   "id": "8de10b6c-d00a-4a12-9189-a2c2c3bcb9a3",
   "metadata": {
    "tags": []
   },
   "outputs": [],
   "source": [
    "# This a simple arithmetic expression to mutiply then add integers"
   ]
  },
  {
   "cell_type": "code",
   "execution_count": 3,
   "id": "2fcc203e-597c-4506-b0d8-1402c4775cb5",
   "metadata": {
    "tags": []
   },
   "outputs": [
    {
     "data": {
      "text/plain": [
       "17"
      ]
     },
     "execution_count": 3,
     "metadata": {},
     "output_type": "execute_result"
    }
   ],
   "source": [
    "(3*4)+5"
   ]
  },
  {
   "cell_type": "code",
   "execution_count": 6,
   "id": "9060e98d-4e89-477c-9f4a-ad7557784f90",
   "metadata": {
    "tags": []
   },
   "outputs": [],
   "source": [
    "# This will convert 200 minutes to hours by diving by 60."
   ]
  },
  {
   "cell_type": "code",
   "execution_count": 7,
   "id": "04cd2d36-8fbb-473a-8a56-13f8db6609c6",
   "metadata": {
    "tags": []
   },
   "outputs": [
    {
     "data": {
      "text/plain": [
       "3.3333333333333335"
      ]
     },
     "execution_count": 7,
     "metadata": {},
     "output_type": "execute_result"
    }
   ],
   "source": [
    "200/60"
   ]
  },
  {
   "cell_type": "code",
   "execution_count": 8,
   "id": "482701e1-39a9-47b8-b6bd-7be584ed686c",
   "metadata": {
    "tags": []
   },
   "outputs": [
    {
     "data": {
      "text/plain": [
       "3"
      ]
     },
     "execution_count": 8,
     "metadata": {},
     "output_type": "execute_result"
    }
   ],
   "source": [
    "round(200/60)"
   ]
  }
 ],
 "metadata": {
  "kernelspec": {
   "display_name": "Python",
   "language": "python",
   "name": "conda-env-python-py"
  },
  "language_info": {
   "codemirror_mode": {
    "name": "ipython",
    "version": 3
   },
   "file_extension": ".py",
   "mimetype": "text/x-python",
   "name": "python",
   "nbconvert_exporter": "python",
   "pygments_lexer": "ipython3",
   "version": "3.7.12"
  }
 },
 "nbformat": 4,
 "nbformat_minor": 5
}
